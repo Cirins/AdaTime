{
 "cells": [
  {
   "cell_type": "code",
   "execution_count": 1,
   "metadata": {},
   "outputs": [],
   "source": [
    "import os\n",
    "import pandas as pd\n",
    "from tabulate import tabulate\n",
    "\n",
    "def print_results(dataset):\n",
    "    # Initialize a list to store the results\n",
    "    results = []\n",
    "\n",
    "    # Iterate through all subdirectories\n",
    "    for subdir in os.listdir(dataset):\n",
    "        if subdir == \"others\":\n",
    "            continue\n",
    "        subdir_path = os.path.join(dataset, subdir)\n",
    "        \n",
    "        # Check if it is a directory\n",
    "        if os.path.isdir(subdir_path):\n",
    "            csv_path = os.path.join(subdir_path, \"results.csv\")\n",
    "            \n",
    "            # Check if the results.csv file exists\n",
    "            if os.path.exists(csv_path):\n",
    "                # Read the CSV file\n",
    "                df = pd.read_csv(csv_path)\n",
    "                \n",
    "                # Extract mean and std rows\n",
    "                mean_row = df[df['scenario'] == 'mean']\n",
    "                std_row = df[df['scenario'] == 'std']\n",
    "                if not mean_row.empty:\n",
    "                    accuracy = mean_row['acc'].values[0]\n",
    "                    accuracy_std = std_row['acc'].values[0]\n",
    "                    f1_score = mean_row['f1_score'].values[0]\n",
    "                    f1_score_std = std_row['f1_score'].values[0]\n",
    "                    auroc = mean_row['auroc'].values[0]\n",
    "                    auroc_std = std_row['auroc'].values[0]\n",
    "                    \n",
    "                    # Append the results\n",
    "                    results.append({\n",
    "                        \"Model\": subdir,\n",
    "                        \"Acc\": accuracy,\n",
    "                        # \"Acc_std\": accuracy_std,\n",
    "                        \"F1\": f1_score,\n",
    "                        # \"F1_std\": f1_score_std,\n",
    "                        \"AUR\": auroc,\n",
    "                        # \"AUR_std\": auroc_std\n",
    "                    })\n",
    "\n",
    "    # Convert the results to a DataFrame for a nicer display\n",
    "    results_df = pd.DataFrame(results).sort_values(by='Acc', ascending=True).reset_index(drop=True)\n",
    "\n",
    "    # Print the results in a tabular format using tabulate\n",
    "    print(tabulate(results_df, headers='keys', tablefmt='pretty'))"
   ]
  },
  {
   "cell_type": "code",
   "execution_count": 2,
   "metadata": {},
   "outputs": [
    {
     "name": "stdout",
     "output_type": "stream",
     "text": [
      "+---+---------------------+--------+--------+--------+\n",
      "|   |        Model        |  Acc   |   F1   |  AUR   |\n",
      "+---+---------------------+--------+--------+--------+\n",
      "| 0 |    NO_ADAPT_rwma    | 0.2722 | 0.1521 | 0.5738 |\n",
      "| 1 |      DANN_rwma      | 0.3658 | 0.2503 | 0.721  |\n",
      "| 2 |   Deep_Coral_rwma   | 0.4819 | 0.399  | 0.7755 |\n",
      "| 3 |  NO_ADAPT_ROT_rwma  | 0.4967 | 0.4026 | 0.7655 |\n",
      "| 4 |      SYN_rwma       | 0.5379 | 0.4828 | 0.8058 |\n",
      "| 5 | Deep_Coral_ROT_rwma | 0.5878 | 0.5098 | 0.8265 |\n",
      "| 6 |    DANN_ROT_rwma    | 0.5886 | 0.5309 | 0.8543 |\n",
      "+---+---------------------+--------+--------+--------+\n"
     ]
    }
   ],
   "source": [
    "print_results(\"realworld_mobiact\")"
   ]
  },
  {
   "cell_type": "code",
   "execution_count": 3,
   "metadata": {},
   "outputs": [
    {
     "name": "stdout",
     "output_type": "stream",
     "text": [
      "+---+---------------------+--------+--------+--------+\n",
      "|   |        Model        |  Acc   |   F1   |  AUR   |\n",
      "+---+---------------------+--------+--------+--------+\n",
      "| 0 |      SYN_marw       | 0.5609 | 0.508  | 0.8215 |\n",
      "| 1 |  NO_ADAPT_ROT_marw  | 0.5713 | 0.5184 | 0.8434 |\n",
      "| 2 |      DANN_marw      |  0.59  | 0.5544 | 0.8288 |\n",
      "| 3 | Deep_Coral_ROT_marw | 0.6038 | 0.5707 | 0.8615 |\n",
      "| 4 |    NO_ADAPT_marw    | 0.6041 | 0.5522 | 0.8517 |\n",
      "| 5 |    DANN_ROT_marw    | 0.6142 | 0.6026 | 0.8498 |\n",
      "| 6 |   Deep_Coral_marw   | 0.6179 | 0.5712 | 0.8561 |\n",
      "+---+---------------------+--------+--------+--------+\n"
     ]
    }
   ],
   "source": [
    "print_results(\"mobiact_realworld\")"
   ]
  },
  {
   "cell_type": "code",
   "execution_count": 4,
   "metadata": {},
   "outputs": [
    {
     "name": "stdout",
     "output_type": "stream",
     "text": [
      "+---+---------------------+--------+--------+--------+\n",
      "|   |        Model        |  Acc   |   F1   |  AUR   |\n",
      "+---+---------------------+--------+--------+--------+\n",
      "| 0 |    NO_ADAPT_rwpa    | 0.2438 | 0.112  | 0.5744 |\n",
      "| 1 |   Deep_Coral_rwpa   | 0.4375 | 0.3619 | 0.7861 |\n",
      "| 2 |      DANN_rwpa      |  0.55  | 0.4654 | 0.856  |\n",
      "| 3 |  NO_ADAPT_ROT_rwpa  | 0.6621 | 0.5858 | 0.9413 |\n",
      "| 4 | Deep_Coral_ROT_rwpa |  0.75  | 0.6925 | 0.9743 |\n",
      "| 5 |      SYN_rwpa       | 0.7913 | 0.7616 | 0.9543 |\n",
      "| 6 |    DANN_ROT_rwpa    | 0.8792 | 0.8631 | 0.9904 |\n",
      "+---+---------------------+--------+--------+--------+\n"
     ]
    }
   ],
   "source": [
    "print_results(\"realworld_pamap\")"
   ]
  },
  {
   "cell_type": "code",
   "execution_count": 5,
   "metadata": {},
   "outputs": [
    {
     "name": "stdout",
     "output_type": "stream",
     "text": [
      "+---+---------------------+--------+--------+--------+\n",
      "|   |        Model        |  Acc   |   F1   |  AUR   |\n",
      "+---+---------------------+--------+--------+--------+\n",
      "| 0 |    NO_ADAPT_parw    | 0.3256 | 0.1798 | 0.6367 |\n",
      "| 1 |  NO_ADAPT_ROT_parw  | 0.365  | 0.2354 |  0.77  |\n",
      "| 2 | Deep_Coral_ROT_parw | 0.4246 | 0.3032 | 0.8512 |\n",
      "| 3 |      DANN_parw      | 0.4727 | 0.3477 | 0.8009 |\n",
      "| 4 |   Deep_Coral_parw   | 0.5007 | 0.3618 | 0.7192 |\n",
      "| 5 |    DANN_ROT_parw    | 0.5269 | 0.4393 | 0.8964 |\n",
      "| 6 |      SYN_parw       | 0.5789 | 0.5145 | 0.8519 |\n",
      "+---+---------------------+--------+--------+--------+\n"
     ]
    }
   ],
   "source": [
    "print_results(\"pamap_realworld\")"
   ]
  },
  {
   "cell_type": "code",
   "execution_count": 6,
   "metadata": {},
   "outputs": [
    {
     "name": "stdout",
     "output_type": "stream",
     "text": [
      "+---+---------------------+--------+--------+--------+\n",
      "|   |        Model        |  Acc   |   F1   |  AUR   |\n",
      "+---+---------------------+--------+--------+--------+\n",
      "| 0 |      SYN_mapa       | 0.4387 | 0.374  | 0.7398 |\n",
      "| 1 |    NO_ADAPT_mapa    | 0.4454 | 0.3667 | 0.8023 |\n",
      "| 2 |    DANN_ROT_mapa    | 0.4625 | 0.4164 | 0.734  |\n",
      "| 3 | Deep_Coral_ROT_mapa | 0.5458 | 0.4847 | 0.7831 |\n",
      "| 4 |  NO_ADAPT_ROT_mapa  | 0.5612 | 0.5047 | 0.791  |\n",
      "| 5 |   Deep_Coral_mapa   | 0.5875 | 0.5607 | 0.8607 |\n",
      "| 6 |      DANN_mapa      | 0.6583 | 0.6183 | 0.8517 |\n",
      "+---+---------------------+--------+--------+--------+\n"
     ]
    }
   ],
   "source": [
    "print_results(\"mobiact_pamap\")"
   ]
  },
  {
   "cell_type": "code",
   "execution_count": 7,
   "metadata": {},
   "outputs": [
    {
     "name": "stdout",
     "output_type": "stream",
     "text": [
      "+---+---------------------+--------+--------+--------+\n",
      "|   |        Model        |  Acc   |   F1   |  AUR   |\n",
      "+---+---------------------+--------+--------+--------+\n",
      "| 0 |  NO_ADAPT_ROT_pama  | 0.3972 | 0.2754 | 0.7303 |\n",
      "| 1 | Deep_Coral_ROT_pama | 0.4462 | 0.3645 | 0.7447 |\n",
      "| 2 |    NO_ADAPT_pama    | 0.4704 | 0.3974 | 0.7335 |\n",
      "| 3 |      SYN_pama       | 0.4847 | 0.4303 | 0.7661 |\n",
      "| 4 |    DANN_ROT_pama    | 0.5171 | 0.4628 | 0.7931 |\n",
      "| 5 |      DANN_pama      | 0.5707 | 0.5147 | 0.8015 |\n",
      "| 6 |   Deep_Coral_pama   | 0.5865 | 0.5235 | 0.8214 |\n",
      "+---+---------------------+--------+--------+--------+\n"
     ]
    }
   ],
   "source": [
    "print_results(\"pamap_mobiact\")"
   ]
  },
  {
   "cell_type": "code",
   "execution_count": 38,
   "metadata": {},
   "outputs": [],
   "source": [
    "import os\n",
    "import pandas as pd\n",
    "from tabulate import tabulate\n",
    "\n",
    "def print_metric(metric):\n",
    "\n",
    "    # Initialize a dictionary to store the data\n",
    "    data = {}\n",
    "\n",
    "    # Iterate through all subdirectories\n",
    "    for dataset in os.listdir():\n",
    "        if not os.path.isdir(dataset):\n",
    "            continue\n",
    "\n",
    "        data[dataset] = {}  # Initialize a dictionary for each dataset\n",
    "\n",
    "        for method in os.listdir(dataset):\n",
    "            if method == 'others':\n",
    "                continue\n",
    "            subdir_path = os.path.join(dataset, method)\n",
    "        \n",
    "            # Check if it is a directory\n",
    "            if os.path.isdir(subdir_path):\n",
    "                csv_path = os.path.join(subdir_path, \"results.csv\")\n",
    "                \n",
    "                # Check if the results.csv file exists\n",
    "                if os.path.exists(csv_path):\n",
    "                    # Read the CSV file\n",
    "                    df = pd.read_csv(csv_path)\n",
    "                    \n",
    "                    # Extract mean row\n",
    "                    mean_row = df[df['scenario'] == 'mean']\n",
    "                    metric_value = mean_row[f'{metric}'].values[0]\n",
    "                    data[dataset][method[:method.rfind('_')]] = metric_value\n",
    "\n",
    "    # Convert the dictionary to a DataFrame\n",
    "    df_result = pd.DataFrame.from_dict(data, orient='index')\n",
    "\n",
    "    # Calculate the mean of each column and append it as a new row\n",
    "    df_result.loc['Average'] = df_result.mean()\n",
    "\n",
    "    # Print the DataFrame\n",
    "    print(tabulate(df_result.round(2), headers='keys', tablefmt='pretty'))\n",
    "\n",
    "\n"
   ]
  },
  {
   "cell_type": "code",
   "execution_count": 39,
   "metadata": {},
   "outputs": [
    {
     "name": "stdout",
     "output_type": "stream",
     "text": [
      "+-------------------+------+----------+------------+----------------+----------+--------------+------+\n",
      "|                   | DANN | DANN_ROT | Deep_Coral | Deep_Coral_ROT | NO_ADAPT | NO_ADAPT_ROT | SYN  |\n",
      "+-------------------+------+----------+------------+----------------+----------+--------------+------+\n",
      "|   mobiact_pamap   | 0.66 |   0.46   |    0.59    |      0.55      |   0.45   |     0.56     | 0.44 |\n",
      "| mobiact_realworld | 0.59 |   0.61   |    0.62    |      0.6       |   0.6    |     0.57     | 0.56 |\n",
      "|   pamap_mobiact   | 0.57 |   0.52   |    0.59    |      0.45      |   0.47   |     0.4      | 0.48 |\n",
      "|  pamap_realworld  | 0.47 |   0.53   |    0.5     |      0.42      |   0.33   |     0.36     | 0.58 |\n",
      "| realworld_mobiact | 0.37 |   0.59   |    0.48    |      0.59      |   0.27   |     0.5      | 0.54 |\n",
      "|  realworld_pamap  | 0.55 |   0.88   |    0.44    |      0.75      |   0.24   |     0.66     | 0.79 |\n",
      "|      Average      | 0.53 |   0.6    |    0.54    |      0.56      |   0.39   |     0.51     | 0.57 |\n",
      "+-------------------+------+----------+------------+----------------+----------+--------------+------+\n"
     ]
    }
   ],
   "source": [
    "print_metric('acc')"
   ]
  },
  {
   "cell_type": "code",
   "execution_count": 35,
   "metadata": {},
   "outputs": [
    {
     "name": "stdout",
     "output_type": "stream",
     "text": [
      "+-------------------+------+----------+------------+----------------+----------+--------------+------+\n",
      "|                   | DANN | DANN_ROT | Deep_Coral | Deep_Coral_ROT | NO_ADAPT | NO_ADAPT_ROT | SYN  |\n",
      "+-------------------+------+----------+------------+----------------+----------+--------------+------+\n",
      "|   mobiact_pamap   | 0.62 |   0.42   |    0.56    |      0.48      |   0.37   |     0.5      | 0.37 |\n",
      "| mobiact_realworld | 0.55 |   0.6    |    0.57    |      0.57      |   0.55   |     0.52     | 0.51 |\n",
      "|   pamap_mobiact   | 0.51 |   0.46   |    0.52    |      0.36      |   0.4    |     0.28     | 0.43 |\n",
      "|  pamap_realworld  | 0.35 |   0.44   |    0.36    |      0.3       |   0.18   |     0.24     | 0.51 |\n",
      "| realworld_mobiact | 0.25 |   0.53   |    0.4     |      0.51      |   0.15   |     0.4      | 0.48 |\n",
      "|  realworld_pamap  | 0.47 |   0.86   |    0.36    |      0.69      |   0.11   |     0.59     | 0.76 |\n",
      "|      Average      | 0.46 |   0.55   |    0.46    |      0.49      |   0.29   |     0.42     | 0.51 |\n",
      "+-------------------+------+----------+------------+----------------+----------+--------------+------+\n"
     ]
    }
   ],
   "source": [
    "print_metric('f1_score')"
   ]
  }
 ],
 "metadata": {
  "kernelspec": {
   "display_name": "stargan-v2",
   "language": "python",
   "name": "python3"
  },
  "language_info": {
   "codemirror_mode": {
    "name": "ipython",
    "version": 3
   },
   "file_extension": ".py",
   "mimetype": "text/x-python",
   "name": "python",
   "nbconvert_exporter": "python",
   "pygments_lexer": "ipython3",
   "version": "3.6.13"
  }
 },
 "nbformat": 4,
 "nbformat_minor": 2
}
