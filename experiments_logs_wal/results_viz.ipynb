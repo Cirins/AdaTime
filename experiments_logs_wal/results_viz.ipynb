{
 "cells": [
  {
   "cell_type": "code",
   "execution_count": 51,
   "metadata": {},
   "outputs": [],
   "source": [
    "import os\n",
    "import pandas as pd\n",
    "from tabulate import tabulate\n",
    "\n",
    "def print_results(dataset):\n",
    "    # Initialize a list to store the results\n",
    "    results = []\n",
    "\n",
    "    # Iterate through all subdirectories\n",
    "    for subdir in os.listdir(dataset):\n",
    "        if subdir == \"others\":\n",
    "            continue\n",
    "        subdir_path = os.path.join(dataset, subdir)\n",
    "        \n",
    "        # Check if it is a directory\n",
    "        if os.path.isdir(subdir_path):\n",
    "            csv_path = os.path.join(subdir_path, \"results.csv\")\n",
    "            \n",
    "            # Check if the results.csv file exists\n",
    "            if os.path.exists(csv_path):\n",
    "                # Read the CSV file\n",
    "                df = pd.read_csv(csv_path)\n",
    "                \n",
    "                # Extract mean and std rows\n",
    "                mean_row = df[df['scenario'] == 'mean']\n",
    "                std_row = df[df['scenario'] == 'std']\n",
    "                if not mean_row.empty:\n",
    "                    accuracy = mean_row['acc'].values[0]\n",
    "                    accuracy_std = std_row['acc'].values[0]\n",
    "                    f1_score = mean_row['f1_score'].values[0]\n",
    "                    f1_score_std = std_row['f1_score'].values[0]\n",
    "                    auroc = mean_row['auroc'].values[0]\n",
    "                    auroc_std = std_row['auroc'].values[0]\n",
    "                    \n",
    "                    # Append the results\n",
    "                    results.append({\n",
    "                        \"Model\": subdir,\n",
    "                        \"Acc\": accuracy,\n",
    "                        # \"Acc_std\": accuracy_std,\n",
    "                        \"F1\": f1_score,\n",
    "                        # \"F1_std\": f1_score_std,\n",
    "                        \"AUR\": auroc,\n",
    "                        # \"AUR_std\": auroc_std\n",
    "                    })\n",
    "\n",
    "    # Convert the results to a DataFrame for a nicer display\n",
    "    results_df = pd.DataFrame(results).sort_values(by='Acc', ascending=True).reset_index(drop=True)\n",
    "\n",
    "    # Print the results in a tabular format using tabulate\n",
    "    print(tabulate(results_df, headers='keys', tablefmt='pretty'))"
   ]
  },
  {
   "cell_type": "code",
   "execution_count": 52,
   "metadata": {},
   "outputs": [
    {
     "name": "stdout",
     "output_type": "stream",
     "text": [
      "+---+---------------------+--------+--------+--------+\n",
      "|   |        Model        |  Acc   |   F1   |  AUR   |\n",
      "+---+---------------------+--------+--------+--------+\n",
      "| 0 |      DANN_rwma      | 0.3326 | 0.2311 | 0.6789 |\n",
      "| 1 |   Deep_Coral_rwma   | 0.4128 | 0.3273 | 0.715  |\n",
      "| 2 |      SYN_rwma       | 0.4346 | 0.3657 | 0.6991 |\n",
      "| 3 |    DANN_ROT_rwma    | 0.5377 | 0.4513 | 0.827  |\n",
      "| 4 | Deep_Coral_ROT_rwma | 0.5582 | 0.4692 | 0.8246 |\n",
      "+---+---------------------+--------+--------+--------+\n"
     ]
    }
   ],
   "source": [
    "print_results(\"realworld_mobiact\")"
   ]
  },
  {
   "cell_type": "code",
   "execution_count": 53,
   "metadata": {},
   "outputs": [
    {
     "name": "stdout",
     "output_type": "stream",
     "text": [
      "+---+---------------------+--------+--------+--------+\n",
      "|   |        Model        |  Acc   |   F1   |  AUR   |\n",
      "+---+---------------------+--------+--------+--------+\n",
      "| 0 |      DANN_marw      | 0.5731 | 0.5299 | 0.8341 |\n",
      "| 1 |      SYN_marw       | 0.5876 | 0.5322 | 0.8533 |\n",
      "| 2 |    DANN_ROT_marw    | 0.6105 | 0.5823 | 0.8523 |\n",
      "| 3 | Deep_Coral_ROT_marw | 0.6278 | 0.5964 | 0.8629 |\n",
      "| 4 |   Deep_Coral_marw   | 0.6393 | 0.5893 | 0.878  |\n",
      "+---+---------------------+--------+--------+--------+\n"
     ]
    }
   ],
   "source": [
    "print_results(\"mobiact_realworld\")"
   ]
  },
  {
   "cell_type": "code",
   "execution_count": 54,
   "metadata": {},
   "outputs": [
    {
     "name": "stdout",
     "output_type": "stream",
     "text": [
      "+---+---------------------+--------+--------+--------+\n",
      "|   |        Model        |  Acc   |   F1   |  AUR   |\n",
      "+---+---------------------+--------+--------+--------+\n",
      "| 0 |      DANN_rwpa      | 0.2958 | 0.2053 | 0.7553 |\n",
      "| 1 |   Deep_Coral_rwpa   | 0.3292 | 0.282  | 0.6354 |\n",
      "| 2 | Deep_Coral_ROT_rwpa | 0.6792 | 0.5935 | 0.9636 |\n",
      "| 3 |      SYN_rwpa       | 0.6917 | 0.6307 | 0.9219 |\n",
      "| 4 |    DANN_ROT_rwpa    | 0.7167 | 0.6601 | 0.9682 |\n",
      "+---+---------------------+--------+--------+--------+\n"
     ]
    }
   ],
   "source": [
    "print_results(\"realworld_pamap\")"
   ]
  },
  {
   "cell_type": "code",
   "execution_count": 55,
   "metadata": {},
   "outputs": [
    {
     "name": "stdout",
     "output_type": "stream",
     "text": [
      "+---+---------------------+--------+--------+--------+\n",
      "|   |        Model        |  Acc   |   F1   |  AUR   |\n",
      "+---+---------------------+--------+--------+--------+\n",
      "| 0 |      DANN_parw      | 0.3974 | 0.2699 | 0.6345 |\n",
      "| 1 |    DANN_ROT_parw    | 0.4289 | 0.3043 | 0.7948 |\n",
      "| 2 |   Deep_Coral_parw   | 0.4676 | 0.3147 | 0.7467 |\n",
      "| 3 | Deep_Coral_ROT_parw | 0.4886 | 0.3672 | 0.7947 |\n",
      "| 4 |      SYN_parw       | 0.5643 | 0.4991 | 0.7669 |\n",
      "+---+---------------------+--------+--------+--------+\n"
     ]
    }
   ],
   "source": [
    "print_results(\"pamap_realworld\")"
   ]
  },
  {
   "cell_type": "code",
   "execution_count": 56,
   "metadata": {},
   "outputs": [
    {
     "name": "stdout",
     "output_type": "stream",
     "text": [
      "+---+---------------------+--------+--------+--------+\n",
      "|   |        Model        |  Acc   |   F1   |  AUR   |\n",
      "+---+---------------------+--------+--------+--------+\n",
      "| 0 | Deep_Coral_ROT_mapa | 0.5125 | 0.4504 | 0.7606 |\n",
      "| 1 |    DANN_ROT_mapa    | 0.5417 | 0.4753 | 0.8151 |\n",
      "| 2 |      DANN_mapa      | 0.5583 | 0.5257 | 0.8406 |\n",
      "| 3 |      SYN_mapa       |  0.56  | 0.4904 | 0.8292 |\n",
      "| 4 |   Deep_Coral_mapa   | 0.5625 | 0.5369 | 0.849  |\n",
      "+---+---------------------+--------+--------+--------+\n"
     ]
    }
   ],
   "source": [
    "print_results(\"mobiact_pamap\")"
   ]
  },
  {
   "cell_type": "code",
   "execution_count": 57,
   "metadata": {},
   "outputs": [
    {
     "name": "stdout",
     "output_type": "stream",
     "text": [
      "+---+---------------------+--------+--------+--------+\n",
      "|   |        Model        |  Acc   |   F1   |  AUR   |\n",
      "+---+---------------------+--------+--------+--------+\n",
      "| 0 |    DANN_ROT_pama    | 0.4081 | 0.3104 | 0.7602 |\n",
      "| 1 | Deep_Coral_ROT_pama | 0.413  | 0.3058 | 0.7511 |\n",
      "| 2 |      SYN_pama       | 0.4536 |  0.4   | 0.7104 |\n",
      "| 3 |      DANN_pama      | 0.5083 | 0.4485 | 0.7774 |\n",
      "| 4 |   Deep_Coral_pama   | 0.5676 | 0.4993 | 0.8167 |\n",
      "+---+---------------------+--------+--------+--------+\n"
     ]
    }
   ],
   "source": [
    "print_results(\"pamap_mobiact\")"
   ]
  },
  {
   "cell_type": "code",
   "execution_count": 58,
   "metadata": {},
   "outputs": [],
   "source": [
    "import os\n",
    "import pandas as pd\n",
    "from tabulate import tabulate\n",
    "\n",
    "def print_metric(metric):\n",
    "\n",
    "    # Initialize a dictionary to store the data\n",
    "    data = {}\n",
    "\n",
    "    # Iterate through all subdirectories\n",
    "    for dataset in os.listdir():\n",
    "        if not os.path.isdir(dataset):\n",
    "            continue\n",
    "\n",
    "        data[dataset] = {}  # Initialize a dictionary for each dataset\n",
    "\n",
    "        for method in os.listdir(dataset):\n",
    "            if method == 'others':\n",
    "                continue\n",
    "            subdir_path = os.path.join(dataset, method)\n",
    "        \n",
    "            # Check if it is a directory\n",
    "            if os.path.isdir(subdir_path):\n",
    "                csv_path = os.path.join(subdir_path, \"results.csv\")\n",
    "                \n",
    "                # Check if the results.csv file exists\n",
    "                if os.path.exists(csv_path):\n",
    "                    # Read the CSV file\n",
    "                    df = pd.read_csv(csv_path)\n",
    "                    \n",
    "                    # Extract mean row\n",
    "                    mean_row = df[df['scenario'] == 'mean']\n",
    "                    metric_value = mean_row[f'{metric}'].values[0]\n",
    "                    data[dataset][method[:method.rfind('_')]] = metric_value\n",
    "\n",
    "    # Convert the dictionary to a DataFrame\n",
    "    df_result = pd.DataFrame.from_dict(data, orient='index')\n",
    "\n",
    "    # Calculate the mean of each column and append it as a new row\n",
    "    df_result.loc['Average'] = df_result.mean()\n",
    "\n",
    "    # Print the DataFrame\n",
    "    print(tabulate(df_result.round(2), headers='keys', tablefmt='pretty'))\n",
    "\n",
    "\n"
   ]
  },
  {
   "cell_type": "code",
   "execution_count": 59,
   "metadata": {},
   "outputs": [
    {
     "name": "stdout",
     "output_type": "stream",
     "text": [
      "+-------------------+------+----------+------------+----------------+------+\n",
      "|                   | DANN | DANN_ROT | Deep_Coral | Deep_Coral_ROT | SYN  |\n",
      "+-------------------+------+----------+------------+----------------+------+\n",
      "|   mobiact_pamap   | 0.56 |   0.54   |    0.56    |      0.51      | 0.56 |\n",
      "| mobiact_realworld | 0.57 |   0.61   |    0.64    |      0.63      | 0.59 |\n",
      "|   pamap_mobiact   | 0.51 |   0.41   |    0.57    |      0.41      | 0.45 |\n",
      "|  pamap_realworld  | 0.4  |   0.43   |    0.47    |      0.49      | 0.56 |\n",
      "| realworld_mobiact | 0.33 |   0.54   |    0.41    |      0.56      | 0.43 |\n",
      "|  realworld_pamap  | 0.3  |   0.72   |    0.33    |      0.68      | 0.69 |\n",
      "|      Average      | 0.44 |   0.54   |    0.5     |      0.55      | 0.55 |\n",
      "+-------------------+------+----------+------------+----------------+------+\n"
     ]
    }
   ],
   "source": [
    "print_metric('acc')"
   ]
  },
  {
   "cell_type": "code",
   "execution_count": 60,
   "metadata": {},
   "outputs": [
    {
     "name": "stdout",
     "output_type": "stream",
     "text": [
      "+-------------------+------+----------+------------+----------------+------+\n",
      "|                   | DANN | DANN_ROT | Deep_Coral | Deep_Coral_ROT | SYN  |\n",
      "+-------------------+------+----------+------------+----------------+------+\n",
      "|   mobiact_pamap   | 0.53 |   0.48   |    0.54    |      0.45      | 0.49 |\n",
      "| mobiact_realworld | 0.53 |   0.58   |    0.59    |      0.6       | 0.53 |\n",
      "|   pamap_mobiact   | 0.45 |   0.31   |    0.5     |      0.31      | 0.4  |\n",
      "|  pamap_realworld  | 0.27 |   0.3    |    0.31    |      0.37      | 0.5  |\n",
      "| realworld_mobiact | 0.23 |   0.45   |    0.33    |      0.47      | 0.37 |\n",
      "|  realworld_pamap  | 0.21 |   0.66   |    0.28    |      0.59      | 0.63 |\n",
      "|      Average      | 0.37 |   0.46   |    0.42    |      0.46      | 0.49 |\n",
      "+-------------------+------+----------+------------+----------------+------+\n"
     ]
    }
   ],
   "source": [
    "print_metric('f1_score')"
   ]
  }
 ],
 "metadata": {
  "kernelspec": {
   "display_name": "stargan-v2",
   "language": "python",
   "name": "python3"
  },
  "language_info": {
   "codemirror_mode": {
    "name": "ipython",
    "version": 3
   },
   "file_extension": ".py",
   "mimetype": "text/x-python",
   "name": "python",
   "nbconvert_exporter": "python",
   "pygments_lexer": "ipython3",
   "version": "3.6.13"
  }
 },
 "nbformat": 4,
 "nbformat_minor": 2
}
